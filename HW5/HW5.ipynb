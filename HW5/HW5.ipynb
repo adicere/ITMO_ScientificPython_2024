{
  "nbformat": 4,
  "nbformat_minor": 0,
  "metadata": {
    "colab": {
      "provenance": []
    },
    "kernelspec": {
      "name": "python3",
      "display_name": "Python 3"
    },
    "language_info": {
      "name": "python"
    }
  },
  "cells": [
    {
      "cell_type": "markdown",
      "source": [
        "# Import part"
      ],
      "metadata": {
        "id": "UVpt9xkL1JHy"
      }
    },
    {
      "cell_type": "code",
      "source": [
        "import sys\n",
        "sys.path.append('/content/HW5/')"
      ],
      "metadata": {
        "id": "f1XwBsM6Aqj5"
      },
      "execution_count": 3,
      "outputs": []
    },
    {
      "cell_type": "code",
      "source": [
        "!pip install rdkit"
      ],
      "metadata": {
        "colab": {
          "base_uri": "https://localhost:8080/"
        },
        "id": "WmzHgWVyDSxJ",
        "outputId": "3dcc56da-d5ad-4f2f-c996-3a11985742d4"
      },
      "execution_count": 4,
      "outputs": [
        {
          "output_type": "stream",
          "name": "stdout",
          "text": [
            "Collecting rdkit\n",
            "  Downloading rdkit-2023.9.6-cp310-cp310-manylinux_2_17_x86_64.manylinux2014_x86_64.whl (34.9 MB)\n",
            "\u001b[2K     \u001b[90m━━━━━━━━━━━━━━━━━━━━━━━━━━━━━━━━━━━━━━━━\u001b[0m \u001b[32m34.9/34.9 MB\u001b[0m \u001b[31m24.1 MB/s\u001b[0m eta \u001b[36m0:00:00\u001b[0m\n",
            "\u001b[?25hRequirement already satisfied: numpy in /usr/local/lib/python3.10/dist-packages (from rdkit) (1.25.2)\n",
            "Requirement already satisfied: Pillow in /usr/local/lib/python3.10/dist-packages (from rdkit) (9.4.0)\n",
            "Installing collected packages: rdkit\n",
            "Successfully installed rdkit-2023.9.6\n"
          ]
        }
      ]
    },
    {
      "cell_type": "code",
      "source": [
        "import molecular_descriptors\n",
        "from utils import descriptor_target_split, descriptor_target_join\n",
        "from rdkit import Chem\n",
        "import pandas as pd"
      ],
      "metadata": {
        "id": "nmn8hdyF80J3"
      },
      "execution_count": 7,
      "outputs": []
    },
    {
      "cell_type": "code",
      "execution_count": 71,
      "metadata": {
        "id": "wXvU9Dwg0FGb"
      },
      "outputs": [],
      "source": [
        "from sklearn.model_selection import train_test_split, GridSearchCV\n",
        "from sklearn import metrics\n",
        "from sklearn.preprocessing import StandardScaler\n",
        "from sklearn.impute import SimpleImputer as Imputer\n",
        "from sklearn.linear_model import LassoCV, RidgeCV, ElasticNetCV\n",
        "from sklearn.feature_selection import SelectKBest, mutual_info_regression\n",
        "from sklearn.pipeline import Pipeline\n",
        "import numpy as np\n",
        "import pandas as pd\n",
        "import urllib.request\n",
        "import json\n",
        "from sklearn.ensemble import RandomForestRegressor\n",
        "from sklearn.decomposition import PCA\n",
        "from sklearn import metrics\n",
        "from sklearn.svm import LinearSVR\n",
        "from sklearn.pipeline import Pipeline\n",
        "from sklearn.model_selection import KFold #for K-fold cross validation\n",
        "from sklearn.model_selection import cross_val_score #score evaluation\n",
        "from sklearn.model_selection import cross_val_predict #prediction"
      ]
    },
    {
      "cell_type": "code",
      "source": [
        "def fit_Ridge(X_train, X_test, y_train, y_test):\n",
        "    a = Imputer(strategy='median')\n",
        "    b = StandardScaler()\n",
        "    c = SelectKBest(score_func=mutual_info_regression)\n",
        "    clf = RidgeCV(alphas=[1e-2, 1, 5, 10, 20, 30], cv=10)\n",
        "    model = Pipeline([('impute', a), ('scaling', b), ('anova', c), ('ridge', clf)])\n",
        "\n",
        "    parameters = {\n",
        "        'anova__k': [5, 10, 20, 40],\n",
        "        'ridge__alphas': [[1e-2], [1], [5], [10], [20], [30]]  # List of lists for alphas\n",
        "    }\n",
        "\n",
        "    grid = GridSearchCV(model, parameters)\n",
        "    grid.fit(X_train, y_train)\n",
        "    y_pred = grid.predict(X_test)\n",
        "\n",
        "    metric = [grid.score(X_test, y_test),\n",
        "              metrics.explained_variance_score(y_test, y_pred),\n",
        "              metrics.mean_absolute_error(y_test, y_pred),\n",
        "              metrics.mean_squared_error(y_test, y_pred),\n",
        "              metrics.median_absolute_error(y_test, y_pred),\n",
        "              metrics.r2_score(y_test, y_pred)]\n",
        "\n",
        "    best_k = grid.best_params_['anova__k']\n",
        "    best_alpha = grid.best_params_['ridge__alphas'][0]\n",
        "\n",
        "    print(f\"Best parameters are: anova_k: {best_k}, alpha: {best_alpha}\")\n",
        "\n",
        "    return grid, y_pred, metric"
      ],
      "metadata": {
        "id": "foOfUdDRmOHB"
      },
      "execution_count": 127,
      "outputs": []
    },
    {
      "cell_type": "code",
      "source": [
        "def desc_calc(data, mode):\n",
        "    return molecular_descriptors.getAllDescriptors(data, mode)"
      ],
      "metadata": {
        "id": "G3-SLPB3FgYQ"
      },
      "execution_count": 81,
      "outputs": []
    },
    {
      "cell_type": "code",
      "source": [
        "def sar_model_evaluation(descriptors: pd.DataFrame):\n",
        "    y = descriptors['Target']\n",
        "    X = descriptors.drop(columns=['Target'])\n",
        "    X_train, X_test, y_train, y_test = train_test_split(X, y, random_state=42)\n",
        "    model1, y_pred1, metrics1 = fit_Ridge(X_train, X_test, y_train, y_test)\n",
        "    return model1, y_pred1, metrics1"
      ],
      "metadata": {
        "id": "deqwhxrPIJcw"
      },
      "execution_count": 126,
      "outputs": []
    },
    {
      "cell_type": "code",
      "source": [
        "def sar_model_train(descriptors_train: pd.DataFrame, indices):\n",
        "    y_train = descriptors_train['Target']\n",
        "    X_train = descriptors_train.drop(columns=['Target'])\n",
        "    X_train = X_train[X_train.columns[indices]]\n",
        "    a = Imputer(missing_values=np.nan, strategy='median')\n",
        "    b = StandardScaler()\n",
        "    clf = RidgeCV(cv=10, alphas=[30]) #based on print(f\"Best parameters are: anova_k: {best_k}, alpha: {best_alpha}\")\n",
        "    #line my best parameters are anova_k: 40, alpha: 30\n",
        "    model = Pipeline([('impute', a), ('scaling', b), ('rf', clf)])\n",
        "    model.fit(X_train, y_train)\n",
        "    return model"
      ],
      "metadata": {
        "id": "lsiCPmH5IP8g"
      },
      "execution_count": 125,
      "outputs": []
    },
    {
      "cell_type": "code",
      "source": [
        "def sar_model_predict(model, descriptors_pred, indices):\n",
        "    X_pred = descriptors_pred\n",
        "    X_pred = X_pred[X_pred.columns[indices]]\n",
        "    return model.predict(X_pred)"
      ],
      "metadata": {
        "id": "rlshK80bT94_"
      },
      "execution_count": 124,
      "outputs": []
    },
    {
      "cell_type": "markdown",
      "source": [
        "# PubChem"
      ],
      "metadata": {
        "id": "y1vPBdKiU5nD"
      }
    },
    {
      "cell_type": "code",
      "source": [
        "def pubchem_parsing(url):\n",
        "    req = urllib.request.Request(url)\n",
        "    res = urllib.request.urlopen(req).read()\n",
        "    fin = json.loads(res.decode())\n",
        "    return fin\n",
        "\n",
        "\n",
        "def get_similar_cids(compound_smiles, threshold=95, maxentries=10):\n",
        "    pubchem_pug_rest_api_link = \"https://pubchem.ncbi.nlm.nih.gov/rest/pug/compound/\"\n",
        "    pubchem_pug_rest_api_link+= \"fastsimilarity_2d/smiles/%(smiles)s/cids/JSON?Threshold=%(threshold)s&MaxRecords=%(maxentries)s\" % {\n",
        "        \"smiles\": compound_smiles, \"threshold\": threshold, \"maxentries\": maxentries}\n",
        "    similar_cids = pubchem_parsing(pubchem_pug_rest_api_link)['IdentifierList']['CID']\n",
        "    return similar_cids\n",
        "\n",
        "\n",
        "def get_xlogp(compound_cid):\n",
        "    pubchem_pug_rest_api_link = \"https://pubchem.ncbi.nlm.nih.gov/rest/pug/\"\n",
        "    pubchem_pug_rest_api_link += \"compound/cid/%s/property/XLogP/JSON\" % compound_cid\n",
        "    try:\n",
        "        xlogp = pubchem_parsing(pubchem_pug_rest_api_link)['PropertyTable']['Properties'][0]['XLogP']\n",
        "        return xlogp\n",
        "    except KeyError:\n",
        "        return None"
      ],
      "metadata": {
        "id": "0ug79n5IVAM3"
      },
      "execution_count": 123,
      "outputs": []
    },
    {
      "cell_type": "markdown",
      "source": [
        "# Main part"
      ],
      "metadata": {
        "id": "vOlO7KXvVUZt"
      }
    },
    {
      "cell_type": "code",
      "source": [
        "if __name__ == \"__main__\":\n",
        "\n",
        "    pd.set_option.use_inf_as_na = True\n",
        "\n",
        "    # loading data\n",
        "    train_data = pd.read_csv('/content/HW5/logp_100.csv')\n",
        "    pred_data = pd.read_csv('/content/HW5/logp_inputs.csv')\n",
        "    cpds = [row for row in pred_data.loc[:, 'SMILES']]\n",
        "\n",
        "    # calculating descriptors\n",
        "    print(\"Calculating descriptors for training data...\")\n",
        "    train_descriptors = desc_calc(train_data, mode='train')\n",
        "    print(\"Calculating descriptors for prediction data...\")\n",
        "    pred_descriptors = desc_calc(pred_data, mode='pred')\n",
        "\n",
        "    # finding best estimator\n",
        "    print(\"Evaluating regression model parameters...\")\n",
        "    model = sar_model_evaluation(train_descriptors)\n",
        "    #print('Best parameters are:', model[0].best_params_, best_alpha)\n",
        "    cols = model[0].best_estimator_.named_steps['anova'].get_support(indices=True)\n",
        "\n",
        "    # train the best estimator and predict values\n",
        "    print(\"Training the model with the best parameters...\")\n",
        "    final_model = sar_model_train(train_descriptors, cols)\n",
        "\n",
        "for cpd in cpds:\n",
        "        cpd_descriptors = pred_descriptors[pred_descriptors['SMILES']==cpd]\n",
        "        pred = sar_model_predict(final_model, descriptors_pred = cpd_descriptors, indices = cols)\n",
        "        print(f\"Predicted LogP value for compound {cpd}:\", pred)\n",
        "\n",
        "        result = []\n",
        "\n",
        "        print(\"Searching for similar compunds...\")\n",
        "        similarity = get_similar_cids(compound_smiles = cpd) # related pubchem function\n",
        "\n",
        "        print(\"Filtering logP...\")\n",
        "        for cid in similarity:\n",
        "            xlogp = get_xlogp(cid) # related pubchem function\n",
        "            if xlogp:\n",
        "                if xlogp <= pred*1.1 and xlogp >=pred*0.9:\n",
        "                    result.append((cid, xlogp))\n",
        "\n",
        "        print(f\"Request for compound {cpd} completed. I found the following CIDs in PubChem with XLogP in the range of {pred}+- 10%: {result}\")"
      ],
      "metadata": {
        "colab": {
          "base_uri": "https://localhost:8080/"
        },
        "id": "NmJK573VVRUF",
        "outputId": "f590975c-30e5-4394-bb8f-3085baf2723e"
      },
      "execution_count": 132,
      "outputs": [
        {
          "output_type": "stream",
          "name": "stdout",
          "text": [
            "Calculating descriptors for training data...\n",
            "Calculating Molecular Descriptors Completed.\n",
            "Calculating descriptors for prediction data...\n",
            "Calculating Molecular Descriptors Completed.\n",
            "Evaluating regression model parameters...\n",
            "Best parameters are: anova_k: 40, alpha: 30\n",
            "Training the model with the best parameters...\n",
            "Predicted LogP value for compound CC1=CC2=C(C=C1C)NC(=O)CC2C3=CC=CC=C3OC: [4.3486695]\n",
            "Searching for similar compunds...\n",
            "Filtering logP...\n",
            "Request for compound CC1=CC2=C(C=C1C)NC(=O)CC2C3=CC=CC=C3OC completed. I found the following CIDs in PubChem with XLogP in the range of [4.3486695]+- 10%: [(2906028, 4), (2917087, 4.5), (17285549, 4.1)]\n",
            "Predicted LogP value for compound COC1=CC=C2C(=C1)OC(CC2=O)(C(F)(F)F)O: [2.34140919]\n",
            "Searching for similar compunds...\n",
            "Filtering logP...\n",
            "Request for compound COC1=CC=C2C(=C1)OC(CC2=O)(C(F)(F)F)O completed. I found the following CIDs in PubChem with XLogP in the range of [2.34140919]+- 10%: [(2917555, 2.4), (2849054, 2.2), (799275, 2.4)]\n"
          ]
        }
      ]
    }
  ]
}